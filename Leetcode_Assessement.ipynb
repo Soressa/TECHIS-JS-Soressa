{
  "nbformat": 4,
  "nbformat_minor": 0,
  "metadata": {
    "colab": {
      "name": "Leetcode Assessement.ipynb",
      "provenance": [],
      "authorship_tag": "ABX9TyPd+pVDYGjsaO0MuC0jhJnD",
      "include_colab_link": true
    },
    "kernelspec": {
      "name": "python3",
      "display_name": "Python 3"
    },
    "language_info": {
      "name": "python"
    }
  },
  "cells": [
    {
      "cell_type": "markdown",
      "metadata": {
        "id": "view-in-github",
        "colab_type": "text"
      },
      "source": [
        "<a href=\"https://colab.research.google.com/github/Soressa/TECHIS-JS-Soressa/blob/main/Leetcode_Assessement.ipynb\" target=\"_parent\"><img src=\"https://colab.research.google.com/assets/colab-badge.svg\" alt=\"Open In Colab\"/></a>"
      ]
    },
    {
      "cell_type": "markdown",
      "source": [
        "# **Constraints:**\n",
        "\n",
        "# **The number of nodes in both lists is in the range [0, 50].**\n",
        "# **-100 <= Node.val <= 100**\n",
        "# **Both list1 and list2 are sorted in non-decreasing order.**"
      ],
      "metadata": {
        "id": "YslqEPfTKcpm"
      }
    },
    {
      "cell_type": "code",
      "source": [
        "class Solution:\n",
        "\tdef mergeTwoLists(self, list1: Optional[ListNode], list2: Optional[ListNode]) -> Optional[ListNode]:\n",
        "\t\ttest = ListNode()\n",
        "\t\tnew_list = test\n",
        "\t\twhile list1 and list2:\n",
        "\t\t\tif list1.val <= list2.val:\n",
        "\t\t\t\tnew_list.next = list1\n",
        "\t\t\t\tlist1 = list1.next\n",
        "\t\t\telse:\n",
        "\t\t\t\tnew_list.next = list2\n",
        "\t\t\t\tlist2 = list2.next\n",
        "\t\t\tnew_list = new_list.next\n",
        "\t\tif list1:\n",
        "\t\t\tnew_list.next = list1\n",
        "\t\telif list2:\n",
        "\t\t\tnew_list.next = list2\n",
        "\t\treturn test.next\n",
        "        \n",
        "input: \n",
        "  [1,2,5,12,35,45]\n",
        "  [1,3,4,25,35,45,46,49]\n",
        "Output:\n",
        "  [1,1,2,3,4,5,12,25,35,35,45,45,46,49]\n"
      ],
      "metadata": {
        "id": "dp4bz9YdCSRu"
      },
      "execution_count": null,
      "outputs": []
    },
    {
      "cell_type": "markdown",
      "source": [
        "# **Number of 1 Bits-Leetcode**"
      ],
      "metadata": {
        "id": "IQb2pstla3AQ"
      }
    },
    {
      "cell_type": "code",
      "source": [
        "class Solution(object):\n",
        "   def hammingWeight(self, n):\n",
        "      \"\"\"\n",
        "      :type n: int\n",
        "      :rtype: int\n",
        "      \"\"\"\n",
        "      n = str(bin(n))\n",
        "      print(n)\n",
        "      one_count = 0\n",
        "      for i in n:\n",
        "         if i == \"1\":\n",
        "            one_count+=1\n",
        "      return one_count\n",
        "\n",
        "\n",
        "Your input:\n",
        "00000000110000001000011111001011\n",
        "stdout:\n",
        "0b110000001000011111001011\n",
        "Output:\n",
        "11\n",
        "Expected:\n",
        "11\n"
      ],
      "metadata": {
        "id": "Xf3QKeOTaHzu"
      },
      "execution_count": null,
      "outputs": []
    },
    {
      "cell_type": "markdown",
      "source": [
        "# Final Value of Variable After Performing Operations"
      ],
      "metadata": {
        "id": "u1OqGMZcKnOp"
      }
    },
    {
      "cell_type": "code",
      "source": [
        "class Solution:\n",
        "    def finalValueAfterOperations(self, operations: List[str]) -> int:\n",
        "        return sum ([1 if \"+\" in x else -1 for x in operations])\n",
        "\n",
        "\n",
        "Your input:\n",
        "[\"--X\",\"X++\",\"X++\"]\n",
        "Output:\n",
        "1\n",
        "Expected:\n",
        "1"
      ],
      "metadata": {
        "id": "1ph7M-C_IyU9"
      },
      "execution_count": null,
      "outputs": []
    },
    {
      "cell_type": "markdown",
      "source": [
        "# **Subtract the Product and Sum of Digits of an Integer**\n",
        "Constraints:\n",
        "\n",
        "1 <= n <= 10^5\n"
      ],
      "metadata": {
        "id": "MRtQen_bLbQ2"
      }
    },
    {
      "cell_type": "code",
      "source": [
        "class Solution:\n",
        "    def subtractProductAndSum(self, n: int) -> int:\n",
        "        temp = 0\n",
        "        product = 1\n",
        "        while (n>0):\n",
        "            x=n % 10\n",
        "            temp = temp + x\n",
        "            product = product * x\n",
        "            n = n // 10\n",
        "        return product - temp\n",
        "\n",
        "\n",
        "Your input:\n",
        "105\n",
        "Output:\n",
        "-6\n",
        "Expected:\n",
        "-6"
      ],
      "metadata": {
        "id": "92NYCaZlKzq8"
      },
      "execution_count": null,
      "outputs": []
    }
  ]
}