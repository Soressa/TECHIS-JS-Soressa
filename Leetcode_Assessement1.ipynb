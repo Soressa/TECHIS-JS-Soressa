{
  "nbformat": 4,
  "nbformat_minor": 0,
  "metadata": {
    "colab": {
      "name": "Leetcode Assessement1.ipynb",
      "provenance": [],
      "authorship_tag": "ABX9TyPbKM5QFHXshdCWaa3yoa+S",
      "include_colab_link": true
    },
    "kernelspec": {
      "name": "python3",
      "display_name": "Python 3"
    },
    "language_info": {
      "name": "python"
    }
  },
  "cells": [
    {
      "cell_type": "markdown",
      "metadata": {
        "id": "view-in-github",
        "colab_type": "text"
      },
      "source": [
        "<a href=\"https://colab.research.google.com/github/Soressa/TECHIS-JS-Soressa/blob/main/Leetcode_Assessement1.ipynb\" target=\"_parent\"><img src=\"https://colab.research.google.com/assets/colab-badge.svg\" alt=\"Open In Colab\"/></a>"
      ]
    },
    {
      "cell_type": "markdown",
      "source": [
        "# **Constraints:**\n",
        "\n",
        "# **The number of nodes in both lists is in the range [0, 50].**\n",
        "# **-100 <= Node.val <= 100**\n",
        "# **Both list1 and list2 are sorted in non-decreasing order.**"
      ],
      "metadata": {
        "id": "YslqEPfTKcpm"
      }
    },
    {
      "cell_type": "code",
      "source": [
        "class Solution:\n",
        "\tdef mergeTwoLists(self, list1: Optional[ListNode], list2: Optional[ListNode]) -> Optional[ListNode]:\n",
        "\t\ttest = ListNode()\n",
        "\t\tnew_list = test\n",
        "\t\twhile list1 and list2:\n",
        "\t\t\tif list1.val <= list2.val:\n",
        "\t\t\t\tnew_list.next = list1\n",
        "\t\t\t\tlist1 = list1.next\n",
        "\t\t\telse:\n",
        "\t\t\t\tnew_list.next = list2\n",
        "\t\t\t\tlist2 = list2.next\n",
        "\t\t\tnew_list = new_list.next\n",
        "\t\tif list1:\n",
        "\t\t\tnew_list.next = list1\n",
        "\t\telif list2:\n",
        "\t\t\tnew_list.next = list2\n",
        "\t\treturn test.next\n",
        "        \n",
        "input: \n",
        "  [1,2,5,12,35,45]\n",
        "  [1,3,4,25,35,45,46,49]\n",
        "Output:\n",
        "  [1,1,2,3,4,5,12,25,35,35,45,45,46,49]\n"
      ],
      "metadata": {
        "id": "dp4bz9YdCSRu"
      },
      "execution_count": null,
      "outputs": []
    }
  ]
}